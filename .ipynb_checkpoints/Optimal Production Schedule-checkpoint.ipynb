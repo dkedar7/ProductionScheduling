{
 "cells": [
  {
   "cell_type": "markdown",
   "metadata": {},
   "source": [
    "# Data-driven Scheduling of a Multi-site Manufacturing Facility"
   ]
  },
  {
   "cell_type": "markdown",
   "metadata": {},
   "source": [
    "<b>Team members:</b> <br> <br>\n",
    "Kedar Dabhadkar <br>\n",
    "[Dong Qin](https://www.linkedin.com/in/dong-qin/)<br>\n",
    "[Apurva Pradhan](https://www.linkedin.com/in/apurva-pradhan-a20b8a31/)<br>\n",
    "[Geethanzali Kamalanathan](https://www.linkedin.com/in/geethanzali/)"
   ]
  },
  {
   "cell_type": "markdown",
   "metadata": {},
   "source": [
    "<img src=\"https://github.com/dkedar7/ProductionScheduling/blob/master/production/multi-step-lead-form-lead-generation-process-web-forms-300x186.jpg?raw=true\" alt=\"Drawing\" align=\"left\" style=\"width: 400px;\"/>\n",
    "<img src=\"https://github.com/dkedar7/ProductionScheduling/blob/master/production/project-gantt-chart-26459352.jpg?raw=true\" alt=\"Drawing\" align=\"right\" style=\"width: 450px;\"/>"
   ]
  },
  {
   "cell_type": "markdown",
   "metadata": {},
   "source": [
    "<p> <font style=\"FONT-SIZE:15px; COLOR:#000000; LINE-HEIGHT:25px; FONT-FAMILY:Arial,Helvetica,sans-serif\">\n",
    "&emsp;&emsp;Manufacturing any product or service involves collaboration between many independent manufacturing sites. Usually, the total material outcome of the network is merely the sum of the outcomes from these individual sites, and any disturbance in production propagates both downstream and upstream. On the other hand, the net flow of material is always downstream and the net flow of information is always upstream (Figure 1). Even if all of these sites operate under a single organization, they are fiscally and operationally independent. Therefore, comparing results obtained by scheduling using one, a global optimization strategy and two, a site-by-site local optimization gives valuable insights about the disturbance propagation.\n",
    "</p>"
   ]
  },
  {
   "cell_type": "markdown",
   "metadata": {},
   "source": [
    "<img src=\"https://github.com/dkedar7/ProductionScheduling/blob/master/production/overall.PNG?raw=true\" alt=\"Drawing\" align=\"middle\" style=\"width: 700px;\"/>\n",
    "<p style=\"text-align:center\">Figure 1. Direction of propogation of information, material and disturbance in a manufacturing plant. </p>"
   ]
  },
  {
   "cell_type": "markdown",
   "metadata": {},
   "source": [
    "## Index\n",
    "\n",
    "1. [Abstract](#abstract)\n",
    "2. [Problem Description](#problem)<br>\n",
    "    2.1. [Objective](#objective)<br>\n",
    "    2.2. [Data](#data)<br>\n",
    "3. [Solution Strategy](#solution)\n",
    "4. [Mathematical Formulation](#math)<br>\n",
    "    4.1. [Local Optimization Strategy (LOS)](#los)<br>\n",
    "    4.2. [Yearly Global Optimization Strategy (YGOS)](#ygos)<br>\n",
    "    4.3. [Monthly Global Optimization Strategy (MGOS)](#mgos)<br>\n",
    "5. [Results](#results)"
   ]
  },
  {
   "cell_type": "markdown",
   "metadata": {},
   "source": [
    "<a id='abstract'></a>\n",
    "## Abstract"
   ]
  },
  {
   "cell_type": "markdown",
   "metadata": {},
   "source": [
    "<p> <font style=\"FONT-SIZE:15px; COLOR:#000000; LINE-HEIGHT:25px; FONT-FAMILY:Arial,Helvetica,sans-serif\">\n",
    "\n",
    "&emsp;&emsp;In this study, we study a model that can be used to optimize an organization’s manufacturing processes through a lot sizing and scheduling problem (LSSP) in a multi-site manufacturing system. The proposed model is applied to a case study involving a multi-site manufacturing system of braking equipment for the automotive industry. A schedule for this process, assuming an integrated approach (global strategy) as well as one assuming a site-by-site approach, is created. This optimization problem includes multi-product demand and cost constraints (fixed and inventory costs). The LSSP is then formulated into a mixed integer problem and the optimization problem is solved in GAMS using a CPLEX (MILP) solver. Through this model, we demonstrate that optimizing a schedule considering a global optimization, encompassing all sites in a manufacturing process, results in a lower total cost than optimizing each site individually on a local level.\n",
    "</p>"
   ]
  },
  {
   "cell_type": "markdown",
   "metadata": {},
   "source": [
    "<img src=\"https://github.com/dkedar7/ProductionScheduling/blob/master/production/plant.PNG?raw=true\" alt=\"Drawing\" align=\"middle\" style=\"width: 800px;\"/>\n"
   ]
  },
  {
   "cell_type": "markdown",
   "metadata": {},
   "source": [
    "<p style=\"text-align:center\">Figure 2. Layout of the manufacturing plant under study. </p>"
   ]
  },
  {
   "cell_type": "markdown",
   "metadata": {},
   "source": [
    "<p> <font style=\"FONT-SIZE:15px; COLOR:#000000; LINE-HEIGHT:25px; FONT-FAMILY:Arial,Helvetica,sans-serif\">\n",
    "&emsp;&emsp;\n",
    "    <b>P1</b>, <b>P2</b>, and <b>P3</b> are the final products which are sold to consumers. <b>P1B</b> and <b>P2B</b> are the products from site <b>2</b> which are processed further in site <b>3</b>. <b>PY</b> is the byproduct of site <b>2</b> which is sold to a different set of customers. Similarly, products <b>P1C</b>, <b>P2C</b>, and <b>PX</b> are products from site <b>1</b> as shown. Additionally, <b>PYf</b> is used as an additional raw material to site <b>2</b>. Site <b>1</b> processes raw materials <b>P1f</b>, <b>P2f</b> and <b>PXf</b> obtained from an outside supplier.\n",
    "    </p>"
   ]
  },
  {
   "cell_type": "markdown",
   "metadata": {},
   "source": [
    "<a id='problem'></a>\n",
    "## Problem Description"
   ]
  },
  {
   "cell_type": "markdown",
   "metadata": {},
   "source": [
    "<a id='objective'></a>\n",
    "### Objective"
   ]
  },
  {
   "cell_type": "markdown",
   "metadata": {},
   "source": [
    "<p> <font style=\"FONT-SIZE:15px; COLOR:#000000; LINE-HEIGHT:25px; FONT-FAMILY:Arial,Helvetica,sans-serif\">\n",
    "&emsp;&emsp;\n",
    "    The objective is to minimize the total cost of the production process by creating an optimal production schedule. The constraints in this process arise out of the bottlenecks created in each of these sites. Gopalakrishnan et al. (1995) discuss the solution strategy that is needed to tackle such a problem. All required data is obtained from Gnoni et al. (2003).\n",
    "    </p>"
   ]
  },
  {
   "cell_type": "markdown",
   "metadata": {},
   "source": [
    "<a id='data'></a>\n",
    "### Available Data"
   ]
  },
  {
   "cell_type": "markdown",
   "metadata": {},
   "source": [
    "<p> <font style=\"FONT-SIZE:15px; COLOR:#000000; LINE-HEIGHT:25px; FONT-FAMILY:Arial,Helvetica,sans-serif\">\n",
    "\n",
    "The following data is available (Gnoni et al., 2003): <br>\n",
    "1. Per day inventory cost for each of the nine products and process intermediates. <br>\n",
    "2. Demand of each end-user product at the end of one year. <br>\n",
    "3. Fixed cost asoociated with the production of each of the nine products and process intermediates. <br>\n",
    "4. Time required for production of each product. <br>\n",
    "5. Total time of the day for which processes run.\n",
    "</p>"
   ]
  },
  {
   "cell_type": "markdown",
   "metadata": {},
   "source": [
    "<a id='solution'></a>\n",
    "## Solution Strategy"
   ]
  },
  {
   "cell_type": "markdown",
   "metadata": {},
   "source": [
    "<p> <font style=\"FONT-SIZE:15px; COLOR:#000000; LINE-HEIGHT:25px; FONT-FAMILY:Arial,Helvetica,sans-serif\">\n",
    "&emsp;&emsp;\n",
    "Five scheduling simulations were carried out in this study. These include a monthly global optimization strategy (MGOS), a yearly global optimization strategy (YGOS), and one local optimization strategy (LOS) for each of the three sites.\n",
    "    </p>"
   ]
  },
  {
   "cell_type": "markdown",
   "metadata": {},
   "source": [
    "<img src=\"https://github.com/dkedar7/ProductionScheduling/blob/master/production/LOS.PNG?raw=true\" alt=\"Drawing\" align=\"middle\" style=\"width: 800px;\"/>"
   ]
  },
  {
   "cell_type": "markdown",
   "metadata": {},
   "source": [
    "<p style=\"text-align:center\">Figure 3. Local Optimization Strategy (LOS) </p>"
   ]
  },
  {
   "cell_type": "markdown",
   "metadata": {},
   "source": [
    "<p> <font style=\"FONT-SIZE:15px; COLOR:#000000; LINE-HEIGHT:25px; FONT-FAMILY:Arial,Helvetica,sans-serif\">\n",
    "&emsp;&emsp;\n",
    "        This is probably the most common scheduling strategy used in industrial optimization. In this, the operation of each manufacturing unit is optimized as an isolated unit. The basic assumption is that the schedule of processes which make up a unit are independent of the processes from other units, except for the deadline. The deadline, on the contrary, is the only entity which contributes to the schedule of a unit and does not belong to any process inside the unit. For example, when studying any site N, the only factors which are taken into consideration are the deadline-governed deliverables of site N to the next site and if applicable, the its deliverables to the end-users. The deadlines and needs of other sites are not considered. Such a strategy is called the Local Optimization Strategy (LOS) (Figure 3). In simpler words, there are N objective functions in LOS, one belonging to each of the N sites.\n",
    "</p>"
   ]
  },
  {
   "cell_type": "markdown",
   "metadata": {},
   "source": [
    "<img src=\"https://github.com/dkedar7/ProductionScheduling/blob/master/production/ygos.PNG?raw=true\" alt=\"Drawing\" align=\"middle\" style=\"width: 800px;\"/>"
   ]
  },
  {
   "cell_type": "markdown",
   "metadata": {},
   "source": [
    "<p style=\"text-align:center\">Figure 4. Yearly Global Optimization Strategy (YGOS) </p>"
   ]
  },
  {
   "cell_type": "markdown",
   "metadata": {},
   "source": [
    "<p> <font style=\"FONT-SIZE:15px; COLOR:#000000; LINE-HEIGHT:25px; FONT-FAMILY:Arial,Helvetica,sans-serif\">\n",
    "&emsp;&emsp;\n",
    "        As opposed to LOS, a Global Optimization Strategy (GOS) takes into account not only the needs of a given unit, but also the needs of the other units, so as to minimize the total cost incurred by the entire plant, and not just one unit. There is only one objective function, which is the mimization of the cost of overall operation of the plant. In this study, two different types of GOS are considered based on the frequency of demand. The first case considers the total annual demand of products. This strategy is called Yearly Global Optimization Strategy (YGOS), as demostrated in Figure 4."
   ]
  },
  {
   "cell_type": "markdown",
   "metadata": {},
   "source": [
    "<img src=\"https://github.com/dkedar7/ProductionScheduling/blob/master/production/mgos.PNG?raw=true\" alt=\"Drawing\" align=\"middle\" style=\"width: 800px;\"/>"
   ]
  },
  {
   "cell_type": "markdown",
   "metadata": {},
   "source": [
    "<p style=\"text-align:center\">Figure 5. Monthly Global Optimization Strategy (MGOS) </p>"
   ]
  },
  {
   "cell_type": "markdown",
   "metadata": {},
   "source": [
    "<p> <font style=\"FONT-SIZE:15px; COLOR:#000000; LINE-HEIGHT:25px; FONT-FAMILY:Arial,Helvetica,sans-serif\">\n",
    "&emsp;&emsp;\n",
    "        The other type of GOS, called the Monthly GOS (MGOS) cateres to the demands of end-users on a monthly basis, rather than an annual basis like in YGOS."
   ]
  },
  {
   "cell_type": "markdown",
   "metadata": {},
   "source": [
    "<a id='math'></a>\n",
    "## Mathematical Formulation"
   ]
  },
  {
   "cell_type": "markdown",
   "metadata": {},
   "source": [
    "<a id='los'></a>\n",
    "\n",
    "<p> <font style=\"FONT-SIZE:15px; COLOR:#000000; LINE-HEIGHT:25px; FONT-FAMILY:Arial,Helvetica,sans-serif\">\n",
    "&emsp;\n",
    "    <b>1. Local Optimization Strategy (LOS)</b> <br> <br>\n",
    "&emsp;&emsp;   \n",
    "    As discussed earlier, the LOS has N objective functions, where each objective function attempts to minimize the cost of any single manufacuring unit. In our case, we have three objective functions and three corresponding sets of constraints. <br> <br>\n",
    "&emsp;&emsp;\n",
    "    Since the plant under study is a linear structure, we start optimizing schedule from the site which only produces final products and not intermediate. The temporal constraints of this site ensure that the products are delivered on time. That site, in our case, is definitely site 3. After we finish scheduling site 3, we now know the latest time by which site 3 needs its raw materials (products of site 2). This way we get the deadline by which site 2 must deliver all products as required by site 3. So, we optimize the schedule of site 2 next. Following such back-propogation methodology, we arrive at the optimal schedule. <br> <br>\n",
    "    \n",
    "<b>Objective function:</b><br>\n",
    "&emsp; N number of objective functions, one each reflects the total cost of operation of a particular unit.<br> <br>\n",
    "<b>Constraints:</b><br>\n",
    "1. Material balance (the total weight of material that goes in equals the sum of weights of the material that is stored and the that of the material that exits).<br>\n",
    "2. Only one product can be processed on a single given day.<br>\n",
    "3. At the end of the year, the total amount of accumulated products must exceed demand. <br>  "
   ]
  },
  {
   "cell_type": "markdown",
   "metadata": {},
   "source": [
    "<a id='ygos'></a>\n",
    "\n",
    "<p> <font style=\"FONT-SIZE:15px; COLOR:#000000; LINE-HEIGHT:25px; FONT-FAMILY:Arial,Helvetica,sans-serif\">\n",
    "&emsp;\n",
    "    <b>2. Yearly Global Optimization Strategy (YGOS)</b> <br> <br>\n",
    "&emsp;&emsp;\n",
    "    The YGOS only has one objective function and three accompanying set of constraints. This objective function reflects the total cost for the operation of the entire plant for one year. The demands are considered on a yearly basis. This means that whenever all the products are produced, they are either stored in the inventory of the same unit or passed on the step site which needs them. <br><br>\n",
    "&emsp;&emsp;\n",
    "    Unlike in the earlier case, we do not need to formulate and solve for each unit separately.<br><br>\n",
    "    <b>Objective function:</b><br>\n",
    "    There is only one objective function. It is the total cost required for all the processes in the entire year. <br><br>\n",
    "    \n",
    "<b>Constraints:</b> <br>\n",
    "1. Material balance (the total weight of material that goes in equals the sum of weights of the material that is stored and the that of the material that exits).<br>\n",
    "2. Only one product can be processed on a single given day.<br>\n",
    "3. At the end of the year, the total amount of accumulated products must exceed demand. <br>  "
   ]
  },
  {
   "cell_type": "markdown",
   "metadata": {},
   "source": [
    "<a id='mgos'></a>\n",
    "\n",
    "<p> <font style=\"FONT-SIZE:15px; COLOR:#000000; LINE-HEIGHT:25px; FONT-FAMILY:Arial,Helvetica,sans-serif\">\n",
    "&emsp;\n",
    "    <b>3. Monthly Global Optimization Strategy (MGOS)</b> <br> <br>\n",
    "&emsp;&emsp;\n",
    "    Similar to YGOS, even MGOS has only one objective function and corresponding three set of constraints. Even in this case, the objective function represents the total cost of operation of the entire plant for the entire year. The only difference between this approach and YGOS is that in this approach, the final products are delivered on a monthly basis. <br><br>\n",
    "<b>Objective function:</b><br>\n",
    "    There is only one objective function. <br><br>\n",
    "    \n",
    "<b>Constraints:</b> <br>\n",
    "1. Material balance (the total weight of material that goes in equals the sum of weights of the material that is stored and the that of the material that exits).<br>\n",
    "2. Only one product can be processed on a single given day.<br>\n",
    "3. At the end of the year, the total amount of accumulated products must exceed demand. <br>  "
   ]
  },
  {
   "cell_type": "markdown",
   "metadata": {},
   "source": [
    "<a id='results'></a>\n",
    "## Results"
   ]
  },
  {
   "cell_type": "markdown",
   "metadata": {},
   "source": [
    "### Gantt chart"
   ]
  },
  {
   "cell_type": "markdown",
   "metadata": {},
   "source": [
    "<img src=\"https://github.com/dkedar7/ProductionScheduling/blob/master/production/gantt_los.PNG?raw=true\" alt=\"Drawing\" align=\"middle\" style=\"width: 800px;\"/>"
   ]
  },
  {
   "cell_type": "markdown",
   "metadata": {},
   "source": [
    "<p style=\"text-align:center\">Figure 6. Gantt chart of Local Optimization Strategy.</p>"
   ]
  },
  {
   "cell_type": "markdown",
   "metadata": {},
   "source": [
    "<img src=\"https://github.com/dkedar7/ProductionScheduling/blob/master/production/gantt_ygos.PNG?raw=true\" alt=\"Drawing\" align=\"middle\" style=\"width: 800px;\"/>"
   ]
  },
  {
   "cell_type": "markdown",
   "metadata": {},
   "source": [
    "<p style=\"text-align:center\">Figure 7. Gantt chart of Yearly Global Optimization Strategy.</p>"
   ]
  },
  {
   "cell_type": "markdown",
   "metadata": {},
   "source": [
    "<img src=\"https://github.com/dkedar7/ProductionScheduling/blob/master/production/gantt_mgos.PNG?raw=true\" alt=\"Drawing\" align=\"middle\" style=\"width: 800px;\"/>"
   ]
  },
  {
   "cell_type": "markdown",
   "metadata": {},
   "source": [
    "<p style=\"text-align:center\">Figure 8. Gantt chart of Monthly Global Optimization Strategy.</p>"
   ]
  },
  {
   "cell_type": "markdown",
   "metadata": {},
   "source": [
    "<p> <font style=\"FONT-SIZE:15px; COLOR:#000000; LINE-HEIGHT:25px; FONT-FAMILY:Arial,Helvetica,sans-serif\">\n",
    "&emsp;&emsp;\n",
    "In GOS, as every site coordinates with every other site, the required raw materials are purchased only when required. This avoids unnecessary inventory cost. As a result, the entire manufacturing system produces products just in time for delivery.\n",
    "<br><br>\n",
    "&emsp;&emsp;\n",
    "As opposed to this, the LOS assumes that there is no coordination amongst sites. Such a system operates on upstream flow of information. Site 3 optimizes its own operations and passes back its demands to site 2. Site 2 optimizes its operations depending on the deadline and requirements given by site 3 and passes back its demands to site 1. It is also important to note that the inventory cost for storing feed materials is almost three times of that for storing the final products at every site. If given a finite amount of feed material on any day, a site would prefer to store it only after processing it into products. To account for this, the inventory cost due to the added feed material inventory is not included in the objective function for the site at which it is being processed. The Gantt chart using the LOS strategy for all three sites (Figure 6) shows how all scheduling strategies minimize cost by reducing inventory and pushing production as close to the delivery deadline as possible."
   ]
  },
  {
   "cell_type": "markdown",
   "metadata": {},
   "source": [
    "<img src=\"https://github.com/dkedar7/ProductionScheduling/blob/master/production/cost.PNG?raw=true\" alt=\"Drawing\" align=\"middle\" style=\"width: 800px;\"/>"
   ]
  },
  {
   "cell_type": "markdown",
   "metadata": {},
   "source": [
    "<p style=\"text-align:center\">Figure 9. Comparison of inventory, fixed and total costs by all three strategies.</p>"
   ]
  },
  {
   "cell_type": "markdown",
   "metadata": {},
   "source": [
    "<p> <font style=\"FONT-SIZE:15px; COLOR:#000000; LINE-HEIGHT:25px; FONT-FAMILY:Arial,Helvetica,sans-serif\">\n",
    "&emsp;&emsp;\n",
    "    The most important benefit of implementing the MGOS approach is that it saves inventory cost of produced materials. Figure 5 shows the daily inventory, fixed and total costs for the three approaches. The monthly GOS has lower inventory costs due to distributed demand. It was found that the monthly GOS approach is the cheapest of all approaches, followed by yearly GOS, followed by LOS. Additionally, figure 9 shows that the component governing this decrease in total cost is the inventory cost. According to the simulations, shifting production strategy to monthly GOS from LOS leads to a 28.89% savings in the manufacturing cost."
   ]
  }
 ],
 "metadata": {
  "kernelspec": {
   "display_name": "Python 3",
   "language": "python",
   "name": "python3"
  },
  "language_info": {
   "codemirror_mode": {
    "name": "ipython",
    "version": 3
   },
   "file_extension": ".py",
   "mimetype": "text/x-python",
   "name": "python",
   "nbconvert_exporter": "python",
   "pygments_lexer": "ipython3",
   "version": "3.6.3"
  }
 },
 "nbformat": 4,
 "nbformat_minor": 2
}
